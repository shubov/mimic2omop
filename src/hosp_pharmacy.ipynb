{
 "cells": [
  {
   "cell_type": "code",
   "execution_count": 2,
   "metadata": {},
   "outputs": [
    {
     "name": "stderr",
     "output_type": "stream",
     "text": [
      "/tmp/ipykernel_2483552/3297773331.py:4: DtypeWarning: Columns (17,19,25,27) have mixed types. Specify dtype option on import or set low_memory=False.\n",
      "  df = pd.read_csv('/data/mimic-iv-2.2/shubov_thesis/hosp/pharmacy.csv.gz', compression='gzip')\n"
     ]
    }
   ],
   "source": [
    "# read csv file\n",
    "import pandas as pd\n",
    "\n",
    "df = pd.read_csv('/data/mimic-iv-2.2/shubov_thesis/hosp/pharmacy.csv.gz', compression='gzip')"
   ]
  },
  {
   "cell_type": "code",
   "execution_count": 7,
   "metadata": {},
   "outputs": [
    {
     "data": {
      "text/html": [
       "<div>\n",
       "<style scoped>\n",
       "    .dataframe tbody tr th:only-of-type {\n",
       "        vertical-align: middle;\n",
       "    }\n",
       "\n",
       "    .dataframe tbody tr th {\n",
       "        vertical-align: top;\n",
       "    }\n",
       "\n",
       "    .dataframe thead th {\n",
       "        text-align: right;\n",
       "    }\n",
       "</style>\n",
       "<table border=\"1\" class=\"dataframe\">\n",
       "  <thead>\n",
       "    <tr style=\"text-align: right;\">\n",
       "      <th></th>\n",
       "      <th>subject_id</th>\n",
       "      <th>hadm_id</th>\n",
       "      <th>pharmacy_id</th>\n",
       "      <th>poe_id</th>\n",
       "      <th>starttime</th>\n",
       "      <th>stoptime</th>\n",
       "      <th>medication</th>\n",
       "      <th>proc_type</th>\n",
       "      <th>status</th>\n",
       "      <th>entertime</th>\n",
       "      <th>...</th>\n",
       "      <th>basal_rate</th>\n",
       "      <th>one_hr_max</th>\n",
       "      <th>doses_per_24_hrs</th>\n",
       "      <th>duration</th>\n",
       "      <th>duration_interval</th>\n",
       "      <th>expiration_value</th>\n",
       "      <th>expiration_unit</th>\n",
       "      <th>expirationdate</th>\n",
       "      <th>dispensation</th>\n",
       "      <th>fill_quantity</th>\n",
       "    </tr>\n",
       "  </thead>\n",
       "  <tbody>\n",
       "    <tr>\n",
       "      <th>0</th>\n",
       "      <td>10000032</td>\n",
       "      <td>22595853</td>\n",
       "      <td>11700683</td>\n",
       "      <td>10000032-34</td>\n",
       "      <td>2180-05-07 01:00:00</td>\n",
       "      <td>2180-05-07 22:00:00</td>\n",
       "      <td>Acetaminophen</td>\n",
       "      <td>Unit Dose</td>\n",
       "      <td>Discontinued via patient discharge</td>\n",
       "      <td>2180-05-07 00:09:24</td>\n",
       "      <td>...</td>\n",
       "      <td>NaN</td>\n",
       "      <td>NaN</td>\n",
       "      <td>NaN</td>\n",
       "      <td>NaN</td>\n",
       "      <td>Ongoing</td>\n",
       "      <td>36.0</td>\n",
       "      <td>Hours</td>\n",
       "      <td>NaN</td>\n",
       "      <td>Omnicell</td>\n",
       "      <td>NaN</td>\n",
       "    </tr>\n",
       "    <tr>\n",
       "      <th>1</th>\n",
       "      <td>10000032</td>\n",
       "      <td>22595853</td>\n",
       "      <td>14779570</td>\n",
       "      <td>10000032-22</td>\n",
       "      <td>2180-05-07 00:00:00</td>\n",
       "      <td>2180-05-07 22:00:00</td>\n",
       "      <td>Sodium Chloride 0.9%  Flush</td>\n",
       "      <td>Unit Dose</td>\n",
       "      <td>Discontinued via patient discharge</td>\n",
       "      <td>2180-05-07 00:00:54</td>\n",
       "      <td>...</td>\n",
       "      <td>NaN</td>\n",
       "      <td>NaN</td>\n",
       "      <td>3.0</td>\n",
       "      <td>NaN</td>\n",
       "      <td>Ongoing</td>\n",
       "      <td>36.0</td>\n",
       "      <td>Hours</td>\n",
       "      <td>NaN</td>\n",
       "      <td>Floor Stock Item</td>\n",
       "      <td>NaN</td>\n",
       "    </tr>\n",
       "    <tr>\n",
       "      <th>2</th>\n",
       "      <td>10000032</td>\n",
       "      <td>22595853</td>\n",
       "      <td>19796602</td>\n",
       "      <td>10000032-50</td>\n",
       "      <td>2180-05-08 08:00:00</td>\n",
       "      <td>2180-05-07 22:00:00</td>\n",
       "      <td>Furosemide</td>\n",
       "      <td>Unit Dose</td>\n",
       "      <td>Discontinued via patient discharge</td>\n",
       "      <td>2180-05-07 09:32:35</td>\n",
       "      <td>...</td>\n",
       "      <td>NaN</td>\n",
       "      <td>NaN</td>\n",
       "      <td>1.0</td>\n",
       "      <td>NaN</td>\n",
       "      <td>Ongoing</td>\n",
       "      <td>36.0</td>\n",
       "      <td>Hours</td>\n",
       "      <td>NaN</td>\n",
       "      <td>Omnicell</td>\n",
       "      <td>NaN</td>\n",
       "    </tr>\n",
       "    <tr>\n",
       "      <th>3</th>\n",
       "      <td>10000032</td>\n",
       "      <td>22595853</td>\n",
       "      <td>20256254</td>\n",
       "      <td>10000032-32</td>\n",
       "      <td>2180-05-07 01:00:00</td>\n",
       "      <td>2180-05-07 22:00:00</td>\n",
       "      <td>Raltegravir</td>\n",
       "      <td>Unit Dose</td>\n",
       "      <td>Discontinued via patient discharge</td>\n",
       "      <td>2180-05-07 00:09:24</td>\n",
       "      <td>...</td>\n",
       "      <td>NaN</td>\n",
       "      <td>NaN</td>\n",
       "      <td>2.0</td>\n",
       "      <td>NaN</td>\n",
       "      <td>Ongoing</td>\n",
       "      <td>36.0</td>\n",
       "      <td>Hours</td>\n",
       "      <td>NaN</td>\n",
       "      <td>Omnicell</td>\n",
       "      <td>NaN</td>\n",
       "    </tr>\n",
       "    <tr>\n",
       "      <th>4</th>\n",
       "      <td>10000032</td>\n",
       "      <td>22595853</td>\n",
       "      <td>28781051</td>\n",
       "      <td>10000032-27</td>\n",
       "      <td>2180-05-07 00:00:00</td>\n",
       "      <td>2180-05-07 22:00:00</td>\n",
       "      <td>Heparin</td>\n",
       "      <td>Unit Dose</td>\n",
       "      <td>Discontinued via patient discharge</td>\n",
       "      <td>2180-05-07 00:00:54</td>\n",
       "      <td>...</td>\n",
       "      <td>NaN</td>\n",
       "      <td>NaN</td>\n",
       "      <td>3.0</td>\n",
       "      <td>NaN</td>\n",
       "      <td>Ongoing</td>\n",
       "      <td>36.0</td>\n",
       "      <td>Hours</td>\n",
       "      <td>NaN</td>\n",
       "      <td>Omnicell</td>\n",
       "      <td>NaN</td>\n",
       "    </tr>\n",
       "  </tbody>\n",
       "</table>\n",
       "<p>5 rows × 27 columns</p>\n",
       "</div>"
      ],
      "text/plain": [
       "   subject_id   hadm_id  pharmacy_id       poe_id            starttime  \\\n",
       "0    10000032  22595853     11700683  10000032-34  2180-05-07 01:00:00   \n",
       "1    10000032  22595853     14779570  10000032-22  2180-05-07 00:00:00   \n",
       "2    10000032  22595853     19796602  10000032-50  2180-05-08 08:00:00   \n",
       "3    10000032  22595853     20256254  10000032-32  2180-05-07 01:00:00   \n",
       "4    10000032  22595853     28781051  10000032-27  2180-05-07 00:00:00   \n",
       "\n",
       "              stoptime                   medication  proc_type  \\\n",
       "0  2180-05-07 22:00:00                Acetaminophen  Unit Dose   \n",
       "1  2180-05-07 22:00:00  Sodium Chloride 0.9%  Flush  Unit Dose   \n",
       "2  2180-05-07 22:00:00                   Furosemide  Unit Dose   \n",
       "3  2180-05-07 22:00:00                  Raltegravir  Unit Dose   \n",
       "4  2180-05-07 22:00:00                      Heparin  Unit Dose   \n",
       "\n",
       "                               status            entertime  ... basal_rate  \\\n",
       "0  Discontinued via patient discharge  2180-05-07 00:09:24  ...        NaN   \n",
       "1  Discontinued via patient discharge  2180-05-07 00:00:54  ...        NaN   \n",
       "2  Discontinued via patient discharge  2180-05-07 09:32:35  ...        NaN   \n",
       "3  Discontinued via patient discharge  2180-05-07 00:09:24  ...        NaN   \n",
       "4  Discontinued via patient discharge  2180-05-07 00:00:54  ...        NaN   \n",
       "\n",
       "  one_hr_max doses_per_24_hrs duration duration_interval expiration_value  \\\n",
       "0        NaN              NaN      NaN           Ongoing             36.0   \n",
       "1        NaN              3.0      NaN           Ongoing             36.0   \n",
       "2        NaN              1.0      NaN           Ongoing             36.0   \n",
       "3        NaN              2.0      NaN           Ongoing             36.0   \n",
       "4        NaN              3.0      NaN           Ongoing             36.0   \n",
       "\n",
       "  expiration_unit  expirationdate      dispensation  fill_quantity  \n",
       "0           Hours             NaN          Omnicell            NaN  \n",
       "1           Hours             NaN  Floor Stock Item            NaN  \n",
       "2           Hours             NaN          Omnicell            NaN  \n",
       "3           Hours             NaN          Omnicell            NaN  \n",
       "4           Hours             NaN          Omnicell            NaN  \n",
       "\n",
       "[5 rows x 27 columns]"
      ]
     },
     "execution_count": 7,
     "metadata": {},
     "output_type": "execute_result"
    }
   ],
   "source": [
    "df.head()"
   ]
  },
  {
   "cell_type": "code",
   "execution_count": 6,
   "metadata": {},
   "outputs": [
    {
     "name": "stdout",
     "output_type": "stream",
     "text": [
      "subject_id             int64\n",
      "hadm_id                int64\n",
      "pharmacy_id            int64\n",
      "poe_id                object\n",
      "starttime             object\n",
      "stoptime              object\n",
      "medication            object\n",
      "proc_type             object\n",
      "status                object\n",
      "entertime             object\n",
      "verifiedtime          object\n",
      "route                 object\n",
      "frequency             object\n",
      "disp_sched            object\n",
      "infusion_type         object\n",
      "sliding_scale         object\n",
      "lockout_interval      object\n",
      "basal_rate           float64\n",
      "one_hr_max            object\n",
      "doses_per_24_hrs     float64\n",
      "duration             float64\n",
      "duration_interval     object\n",
      "expiration_value     float64\n",
      "expiration_unit       object\n",
      "expirationdate        object\n",
      "dispensation          object\n",
      "fill_quantity         object\n",
      "dtype: object\n"
     ]
    }
   ],
   "source": [
    "print(df.dtypes)"
   ]
  },
  {
   "cell_type": "code",
   "execution_count": 5,
   "metadata": {},
   "outputs": [],
   "source": [
    "# drop columns Unnamed: 0\n",
    "df = df.drop(columns=['Unnamed: 0'])"
   ]
  },
  {
   "cell_type": "code",
   "execution_count": 8,
   "metadata": {},
   "outputs": [],
   "source": [
    "df['lockout_interval'] = df['lockout_interval'].astype(str)"
   ]
  },
  {
   "cell_type": "code",
   "execution_count": 9,
   "metadata": {},
   "outputs": [],
   "source": [
    "df['basal_rate'] = df['basal_rate'].astype(float)"
   ]
  },
  {
   "cell_type": "code",
   "execution_count": 10,
   "metadata": {},
   "outputs": [],
   "source": [
    "df['one_hr_max'] = df['one_hr_max'].astype(str)"
   ]
  },
  {
   "cell_type": "code",
   "execution_count": 11,
   "metadata": {},
   "outputs": [],
   "source": [
    "df['doses_per_24_hrs'] = df['doses_per_24_hrs'].astype(float)"
   ]
  },
  {
   "cell_type": "code",
   "execution_count": 12,
   "metadata": {},
   "outputs": [],
   "source": [
    "df['duration'] = df['duration'].astype(float)"
   ]
  },
  {
   "cell_type": "code",
   "execution_count": 13,
   "metadata": {},
   "outputs": [],
   "source": [
    "df['expiration_value'] = df['expiration_value'].astype(float)"
   ]
  },
  {
   "cell_type": "code",
   "execution_count": 14,
   "metadata": {},
   "outputs": [],
   "source": [
    "df.to_csv('/data/mimic-iv-2.2/shubov_thesis/hosp/pharmacy.csv.gz', compression='gzip', index=False)"
   ]
  },
  {
   "cell_type": "markdown",
   "metadata": {},
   "source": [
    "nano pharmacy.json"
   ]
  },
  {
   "cell_type": "markdown",
   "metadata": {},
   "source": [
    "[\n",
    "  {\"name\": \"subject_id\", \"type\": \"INTEGER\"},\n",
    "  {\"name\": \"hadm_id\", \"type\": \"INTEGER\"},\n",
    "  {\"name\": \"pharmacy_id\", \"type\": \"INTEGER\"},\n",
    "  {\"name\": \"poe_id\", \"type\": \"STRING\"},\n",
    "  {\"name\": \"starttime\", \"type\": \"DATETIME\"},\n",
    "  {\"name\": \"stoptime\", \"type\": \"DATETIME\"},\n",
    "  {\"name\": \"medication\", \"type\": \"STRING\"},\n",
    "  {\"name\": \"proc_type\", \"type\": \"STRING\"},\n",
    "  {\"name\": \"status\", \"type\": \"STRING\"},\n",
    "  {\"name\": \"entertime\", \"type\": \"DATETIME\"},\n",
    "  {\"name\": \"verifiedtime\", \"type\": \"DATETIME\"},\n",
    "  {\"name\": \"route\", \"type\": \"STRING\"},\n",
    "  {\"name\": \"frequency\", \"type\": \"STRING\"},\n",
    "  {\"name\": \"disp_sched\", \"type\": \"STRING\"},\n",
    "  {\"name\": \"infusion_type\", \"type\": \"STRING\"},\n",
    "  {\"name\": \"sliding_scale\", \"type\": \"STRING\"},\n",
    "  {\"name\": \"lockout_interval\", \"type\": \"STRING\"},\n",
    "  {\"name\": \"basal_rate\", \"type\": \"FLOAT\"},\n",
    "  {\"name\": \"one_hr_max\", \"type\": \"STRING\"},\n",
    "  {\"name\": \"doses_per_24_hrs\", \"type\": \"FLOAT\"},\n",
    "  {\"name\": \"duration\", \"type\": \"FLOAT\"},\n",
    "  {\"name\": \"duration_interval\", \"type\": \"STRING\"},\n",
    "  {\"name\": \"expiration_value\", \"type\": \"FLOAT\"},\n",
    "  {\"name\": \"expiration_unit\", \"type\": \"STRING\"},\n",
    "  {\"name\": \"expirationdate\", \"type\": \"STRING\"},\n",
    "  {\"name\": \"dispensation\", \"type\": \"STRING\"},\n",
    "  {\"name\": \"fill_quantity\", \"type\": \"STRING\"}\n",
    "]\n"
   ]
  },
  {
   "cell_type": "markdown",
   "metadata": {},
   "source": [
    "bq load --source_format=CSV --skip_leading_rows=1 --schema=pharmacy.json booming-edge-403620:mimiciv_hosp.pharmacy pharmacy.csv.gz "
   ]
  }
 ],
 "metadata": {
  "kernelspec": {
   "display_name": "base",
   "language": "python",
   "name": "python3"
  },
  "language_info": {
   "codemirror_mode": {
    "name": "ipython",
    "version": 3
   },
   "file_extension": ".py",
   "mimetype": "text/x-python",
   "name": "python",
   "nbconvert_exporter": "python",
   "pygments_lexer": "ipython3",
   "version": "3.8.18"
  }
 },
 "nbformat": 4,
 "nbformat_minor": 2
}
