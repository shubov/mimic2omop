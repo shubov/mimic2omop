{
 "cells": [
  {
   "cell_type": "code",
   "execution_count": 1,
   "metadata": {},
   "outputs": [],
   "source": [
    "import dask.dataframe as dd"
   ]
  },
  {
   "cell_type": "code",
   "execution_count": 2,
   "metadata": {},
   "outputs": [],
   "source": [
    "directory_path = '/data/mimic-iv-2.2/shubov_thesis/OMOP/condition_occurrence'  # Replace with your directory path\n",
    "ddf = dd.read_parquet(directory_path + '/*.parquet')"
   ]
  },
  {
   "cell_type": "code",
   "execution_count": 3,
   "metadata": {},
   "outputs": [],
   "source": [
    "# Compute to get a pandas dataframe\n",
    "df = ddf.compute()"
   ]
  },
  {
   "cell_type": "code",
   "execution_count": 4,
   "metadata": {},
   "outputs": [
    {
     "name": "stdout",
     "output_type": "stream",
     "text": [
      "   condition_occurrence_id            person_id  condition_concept_id  \\\n",
      "0       754821759076963681 -6177120996807774034                198400   \n",
      "1      2117581517376821156 -8075939026525396117                201728   \n",
      "2     -9197267432401613995 -2968080770945400016                136960   \n",
      "3     -1330893994829020986  5093097888099300949                136960   \n",
      "4       502052289620959977  3077243796373759417                136960   \n",
      "\n",
      "  condition_start_date condition_start_datetime condition_end_date  \\\n",
      "0           2198-11-18      2198-11-18 10:03:00         2198-11-23   \n",
      "1           2126-01-30      2126-01-30 05:18:00         2126-02-02   \n",
      "2           2199-09-23      2199-09-23 16:17:00         2199-10-02   \n",
      "3           2154-08-19      2154-08-19 01:56:00         2154-08-23   \n",
      "4           2122-10-19      2122-10-19 23:28:00         2122-11-10   \n",
      "\n",
      "  condition_end_datetime  condition_type_concept_id stop_reason  provider_id  \\\n",
      "0    2198-11-23 16:30:00                      32821        None          NaN   \n",
      "1    2126-02-02 21:30:00                      32821        None          NaN   \n",
      "2    2199-10-02 15:10:00                      32821        None          NaN   \n",
      "3    2154-08-23 17:00:00                      32821        None          NaN   \n",
      "4    2122-11-10 16:30:00                      32821        None          NaN   \n",
      "\n",
      "   visit_occurrence_id  visit_detail_id condition_source_value  \\\n",
      "0  4774544059067336233              NaN                  D1801   \n",
      "1  3928685830838974491              NaN                    938   \n",
      "2 -3152993330295891382              NaN                   3361   \n",
      "3 -4479278292560650473              NaN                   3361   \n",
      "4 -6255273774182692019              NaN                   3361   \n",
      "\n",
      "   condition_source_concept_id condition_status_source_value  \\\n",
      "0                     45547580                          None   \n",
      "1                     44822465                          None   \n",
      "2                     44820757                          None   \n",
      "3                     44820757                          None   \n",
      "4                     44820757                          None   \n",
      "\n",
      "   condition_status_concept_id  \n",
      "0                          NaN  \n",
      "1                          NaN  \n",
      "2                          NaN  \n",
      "3                          NaN  \n",
      "4                          NaN  \n"
     ]
    }
   ],
   "source": [
    "# Now you can work with the pandas DataFrame 'df'\n",
    "print(df.head())"
   ]
  }
 ],
 "metadata": {
  "kernelspec": {
   "display_name": "base",
   "language": "python",
   "name": "python3"
  },
  "language_info": {
   "codemirror_mode": {
    "name": "ipython",
    "version": 3
   },
   "file_extension": ".py",
   "mimetype": "text/x-python",
   "name": "python",
   "nbconvert_exporter": "python",
   "pygments_lexer": "ipython3",
   "version": "3.8.18"
  }
 },
 "nbformat": 4,
 "nbformat_minor": 2
}
